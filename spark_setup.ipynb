{
 "cells": [
  {
   "cell_type": "code",
   "execution_count": 36,
   "id": "193bc787",
   "metadata": {},
   "outputs": [],
   "source": [
    "import pyspark\n",
    "from pyspark.sql import SparkSession\n",
    "from pyspark.ml.feature import Imputer"
   ]
  },
  {
   "cell_type": "code",
   "execution_count": 5,
   "id": "bb576009",
   "metadata": {},
   "outputs": [
    {
     "name": "stderr",
     "output_type": "stream",
     "text": [
      "22/04/11 16:18:04 WARN Utils: Your hostname, Charless-MacBook-Pro.local resolves to a loopback address: 127.0.0.1; using 10.0.0.100 instead (on interface en0)\n",
      "22/04/11 16:18:04 WARN Utils: Set SPARK_LOCAL_IP if you need to bind to another address\n",
      "WARNING: An illegal reflective access operation has occurred\n",
      "WARNING: Illegal reflective access by org.apache.spark.unsafe.Platform (file:/Users/charlesreinertson/Desktop/School/grad/DATA514/spark_database/env_spark/lib/python3.8/site-packages/pyspark/jars/spark-unsafe_2.12-3.2.1.jar) to constructor java.nio.DirectByteBuffer(long,int)\n",
      "WARNING: Please consider reporting this to the maintainers of org.apache.spark.unsafe.Platform\n",
      "WARNING: Use --illegal-access=warn to enable warnings of further illegal reflective access operations\n",
      "WARNING: All illegal access operations will be denied in a future release\n",
      "Using Spark's default log4j profile: org/apache/spark/log4j-defaults.properties\n",
      "Setting default log level to \"WARN\".\n",
      "To adjust logging level use sc.setLogLevel(newLevel). For SparkR, use setLogLevel(newLevel).\n",
      "22/04/11 16:18:05 WARN NativeCodeLoader: Unable to load native-hadoop library for your platform... using builtin-java classes where applicable\n"
     ]
    }
   ],
   "source": [
    "spark = SparkSession.builder.appName('airbnb').getOrCreate()"
   ]
  },
  {
   "cell_type": "markdown",
   "id": "8e91467c",
   "metadata": {},
   "source": [
    "### Created only one Spark cluster, but when in the cloud can create multiple clusters and instances"
   ]
  },
  {
   "cell_type": "code",
   "execution_count": 6,
   "id": "4e77a457",
   "metadata": {},
   "outputs": [
    {
     "data": {
      "text/html": [
       "\n",
       "            <div>\n",
       "                <p><b>SparkSession - in-memory</b></p>\n",
       "                \n",
       "        <div>\n",
       "            <p><b>SparkContext</b></p>\n",
       "\n",
       "            <p><a href=\"http://10.0.0.100:4040\">Spark UI</a></p>\n",
       "\n",
       "            <dl>\n",
       "              <dt>Version</dt>\n",
       "                <dd><code>v3.2.1</code></dd>\n",
       "              <dt>Master</dt>\n",
       "                <dd><code>local[*]</code></dd>\n",
       "              <dt>AppName</dt>\n",
       "                <dd><code>airbnb</code></dd>\n",
       "            </dl>\n",
       "        </div>\n",
       "        \n",
       "            </div>\n",
       "        "
      ],
      "text/plain": [
       "<pyspark.sql.session.SparkSession at 0x7f82e0a09b80>"
      ]
     },
     "execution_count": 6,
     "metadata": {},
     "output_type": "execute_result"
    }
   ],
   "source": [
    "spark"
   ]
  },
  {
   "cell_type": "markdown",
   "id": "a3f0a9db",
   "metadata": {},
   "source": [
    "### Read in data"
   ]
  },
  {
   "cell_type": "code",
   "execution_count": 19,
   "id": "eb638d0d",
   "metadata": {},
   "outputs": [],
   "source": [
    "df = spark.read.option('header', 'true').csv(\"datasets/Boston.csv\", inferSchema=True)"
   ]
  },
  {
   "cell_type": "markdown",
   "id": "97947182",
   "metadata": {},
   "source": [
    "### Inspect data"
   ]
  },
  {
   "cell_type": "code",
   "execution_count": 20,
   "id": "a1aa2392",
   "metadata": {},
   "outputs": [
    {
     "name": "stdout",
     "output_type": "stream",
     "text": [
      "+-------+----+-----+----+-----+-----+----+------+---+---+-------+------+-----+----+\n",
      "|   crim|  zn|indus|chas|  nox|   rm| age|   dis|rad|tax|ptratio| black|lstat|medv|\n",
      "+-------+----+-----+----+-----+-----+----+------+---+---+-------+------+-----+----+\n",
      "|0.00632|18.0| 2.31|   0|0.538|6.575|65.2|  4.09|  1|296|   15.3| 396.9| 4.98|24.0|\n",
      "|0.02731| 0.0| 7.07|   0|0.469|6.421|78.9|4.9671|  2|242|   17.8| 396.9| 9.14|21.6|\n",
      "|0.02729| 0.0| 7.07|   0|0.469|7.185|61.1|4.9671|  2|242|   17.8|392.83| 4.03|34.7|\n",
      "|0.03237| 0.0| 2.18|   0|0.458|6.998|45.8|6.0622|  3|222|   18.7|394.63| 2.94|33.4|\n",
      "|0.06905| 0.0| 2.18|   0|0.458|7.147|54.2|6.0622|  3|222|   18.7| 396.9| 5.33|36.2|\n",
      "+-------+----+-----+----+-----+-----+----+------+---+---+-------+------+-----+----+\n",
      "only showing top 5 rows\n",
      "\n"
     ]
    }
   ],
   "source": [
    "df.show(5)"
   ]
  },
  {
   "cell_type": "code",
   "execution_count": 21,
   "id": "40e4093d",
   "metadata": {},
   "outputs": [
    {
     "data": {
      "text/plain": [
       "pyspark.sql.dataframe.DataFrame"
      ]
     },
     "execution_count": 21,
     "metadata": {},
     "output_type": "execute_result"
    }
   ],
   "source": [
    "type(df)"
   ]
  },
  {
   "cell_type": "code",
   "execution_count": 22,
   "id": "4eb2337b",
   "metadata": {},
   "outputs": [
    {
     "name": "stdout",
     "output_type": "stream",
     "text": [
      "root\n",
      " |-- crim: double (nullable = true)\n",
      " |-- zn: double (nullable = true)\n",
      " |-- indus: double (nullable = true)\n",
      " |-- chas: integer (nullable = true)\n",
      " |-- nox: double (nullable = true)\n",
      " |-- rm: double (nullable = true)\n",
      " |-- age: double (nullable = true)\n",
      " |-- dis: double (nullable = true)\n",
      " |-- rad: integer (nullable = true)\n",
      " |-- tax: integer (nullable = true)\n",
      " |-- ptratio: double (nullable = true)\n",
      " |-- black: double (nullable = true)\n",
      " |-- lstat: double (nullable = true)\n",
      " |-- medv: double (nullable = true)\n",
      "\n"
     ]
    }
   ],
   "source": [
    "df.printSchema()"
   ]
  },
  {
   "cell_type": "code",
   "execution_count": 24,
   "id": "c454e0cc",
   "metadata": {},
   "outputs": [
    {
     "name": "stdout",
     "output_type": "stream",
     "text": [
      "+-------+----+\n",
      "|   crim|  zn|\n",
      "+-------+----+\n",
      "|0.00632|18.0|\n",
      "|0.02731| 0.0|\n",
      "|0.02729| 0.0|\n",
      "|0.03237| 0.0|\n",
      "|0.06905| 0.0|\n",
      "|0.02985| 0.0|\n",
      "|0.08829|12.5|\n",
      "|0.14455|12.5|\n",
      "|0.21124|12.5|\n",
      "|0.17004|12.5|\n",
      "|0.22489|12.5|\n",
      "|0.11747|12.5|\n",
      "|0.09378|12.5|\n",
      "|0.62976| 0.0|\n",
      "|0.63796| 0.0|\n",
      "|0.62739| 0.0|\n",
      "|1.05393| 0.0|\n",
      "| 0.7842| 0.0|\n",
      "|0.80271| 0.0|\n",
      "| 0.7258| 0.0|\n",
      "+-------+----+\n",
      "only showing top 20 rows\n",
      "\n"
     ]
    }
   ],
   "source": [
    "df.select(['crim', 'zn']).show()"
   ]
  },
  {
   "cell_type": "code",
   "execution_count": 26,
   "id": "e37206da",
   "metadata": {},
   "outputs": [
    {
     "name": "stdout",
     "output_type": "stream",
     "text": [
      "+-------+------------------+------------------+------------------+------------------+-------------------+------------------+------------------+-----------------+-----------------+------------------+------------------+------------------+------------------+------------------+\n",
      "|summary|              crim|                zn|             indus|              chas|                nox|                rm|               age|              dis|              rad|               tax|           ptratio|             black|             lstat|              medv|\n",
      "+-------+------------------+------------------+------------------+------------------+-------------------+------------------+------------------+-----------------+-----------------+------------------+------------------+------------------+------------------+------------------+\n",
      "|  count|               506|               506|               506|               506|                506|               506|               506|              506|              506|               506|               506|               506|               506|               506|\n",
      "|   mean|3.6135235573122535|11.363636363636363|11.136778656126504|0.0691699604743083| 0.5546950592885372| 6.284634387351787| 68.57490118577078|3.795042687747034|9.549407114624506| 408.2371541501976|18.455533596837967|356.67403162055257|12.653063241106723|22.532806324110698|\n",
      "| stddev| 8.601545105332491| 23.32245299451514| 6.860352940897589|0.2539940413404101|0.11587767566755584|0.7026171434153232|28.148861406903595| 2.10571012662761|8.707259384239366|168.53711605495903|2.1649455237144455| 91.29486438415782| 7.141061511348571| 9.197104087379815|\n",
      "|    min|           0.00632|               0.0|              0.46|                 0|              0.385|             3.561|               2.9|           1.1296|                1|               187|              12.6|              0.32|              1.73|               5.0|\n",
      "|    max|           88.9762|             100.0|             27.74|                 1|              0.871|              8.78|             100.0|          12.1265|               24|               711|              22.0|             396.9|             37.97|              50.0|\n",
      "+-------+------------------+------------------+------------------+------------------+-------------------+------------------+------------------+-----------------+-----------------+------------------+------------------+------------------+------------------+------------------+\n",
      "\n"
     ]
    }
   ],
   "source": [
    "df.describe().show()"
   ]
  },
  {
   "cell_type": "markdown",
   "id": "8a8fdda7",
   "metadata": {},
   "source": [
    "### Drop null values"
   ]
  },
  {
   "cell_type": "code",
   "execution_count": 29,
   "id": "7f7aafad",
   "metadata": {},
   "outputs": [],
   "source": [
    "df = df.na.drop()"
   ]
  },
  {
   "cell_type": "code",
   "execution_count": 30,
   "id": "30df89dc",
   "metadata": {},
   "outputs": [
    {
     "name": "stdout",
     "output_type": "stream",
     "text": [
      "+-------+----+-----+----+-----+-----+-----+------+---+---+-------+------+-----+----+\n",
      "|   crim|  zn|indus|chas|  nox|   rm|  age|   dis|rad|tax|ptratio| black|lstat|medv|\n",
      "+-------+----+-----+----+-----+-----+-----+------+---+---+-------+------+-----+----+\n",
      "|0.00632|18.0| 2.31|   0|0.538|6.575| 65.2|  4.09|  1|296|   15.3| 396.9| 4.98|24.0|\n",
      "|0.02731| 0.0| 7.07|   0|0.469|6.421| 78.9|4.9671|  2|242|   17.8| 396.9| 9.14|21.6|\n",
      "|0.02729| 0.0| 7.07|   0|0.469|7.185| 61.1|4.9671|  2|242|   17.8|392.83| 4.03|34.7|\n",
      "|0.03237| 0.0| 2.18|   0|0.458|6.998| 45.8|6.0622|  3|222|   18.7|394.63| 2.94|33.4|\n",
      "|0.06905| 0.0| 2.18|   0|0.458|7.147| 54.2|6.0622|  3|222|   18.7| 396.9| 5.33|36.2|\n",
      "|0.02985| 0.0| 2.18|   0|0.458| 6.43| 58.7|6.0622|  3|222|   18.7|394.12| 5.21|28.7|\n",
      "|0.08829|12.5| 7.87|   0|0.524|6.012| 66.6|5.5605|  5|311|   15.2| 395.6|12.43|22.9|\n",
      "|0.14455|12.5| 7.87|   0|0.524|6.172| 96.1|5.9505|  5|311|   15.2| 396.9|19.15|27.1|\n",
      "|0.21124|12.5| 7.87|   0|0.524|5.631|100.0|6.0821|  5|311|   15.2|386.63|29.93|16.5|\n",
      "|0.17004|12.5| 7.87|   0|0.524|6.004| 85.9|6.5921|  5|311|   15.2|386.71| 17.1|18.9|\n",
      "|0.22489|12.5| 7.87|   0|0.524|6.377| 94.3|6.3467|  5|311|   15.2|392.52|20.45|15.0|\n",
      "|0.11747|12.5| 7.87|   0|0.524|6.009| 82.9|6.2267|  5|311|   15.2| 396.9|13.27|18.9|\n",
      "|0.09378|12.5| 7.87|   0|0.524|5.889| 39.0|5.4509|  5|311|   15.2| 390.5|15.71|21.7|\n",
      "|0.62976| 0.0| 8.14|   0|0.538|5.949| 61.8|4.7075|  4|307|   21.0| 396.9| 8.26|20.4|\n",
      "|0.63796| 0.0| 8.14|   0|0.538|6.096| 84.5|4.4619|  4|307|   21.0|380.02|10.26|18.2|\n",
      "|0.62739| 0.0| 8.14|   0|0.538|5.834| 56.5|4.4986|  4|307|   21.0|395.62| 8.47|19.9|\n",
      "|1.05393| 0.0| 8.14|   0|0.538|5.935| 29.3|4.4986|  4|307|   21.0|386.85| 6.58|23.1|\n",
      "| 0.7842| 0.0| 8.14|   0|0.538| 5.99| 81.7|4.2579|  4|307|   21.0|386.75|14.67|17.5|\n",
      "|0.80271| 0.0| 8.14|   0|0.538|5.456| 36.6|3.7965|  4|307|   21.0|288.99|11.69|20.2|\n",
      "| 0.7258| 0.0| 8.14|   0|0.538|5.727| 69.5|3.7965|  4|307|   21.0|390.95|11.28|18.2|\n",
      "+-------+----+-----+----+-----+-----+-----+------+---+---+-------+------+-----+----+\n",
      "only showing top 20 rows\n",
      "\n"
     ]
    }
   ],
   "source": [
    "df.show()"
   ]
  },
  {
   "cell_type": "markdown",
   "id": "acd53e06",
   "metadata": {},
   "source": [
    "### Impute new columns"
   ]
  },
  {
   "cell_type": "code",
   "execution_count": 37,
   "id": "126eef5c",
   "metadata": {},
   "outputs": [],
   "source": [
    "imputer = Imputer(\n",
    "    inputCols=['crim', 'zn', 'indus'],\n",
    "    outputCols=[\"{}_imputed\".format(c) for c in ['crim', 'zn', 'indus']]\n",
    "    ).setStrategy(\"mean\")"
   ]
  },
  {
   "cell_type": "code",
   "execution_count": 39,
   "id": "2c9c9a8d",
   "metadata": {},
   "outputs": [
    {
     "name": "stdout",
     "output_type": "stream",
     "text": [
      "+-------+----+-----+------------+----------+-------------+\n",
      "|   crim|  zn|indus|crim_imputed|zn_imputed|indus_imputed|\n",
      "+-------+----+-----+------------+----------+-------------+\n",
      "|0.00632|18.0| 2.31|     0.00632|      18.0|         2.31|\n",
      "|0.02731| 0.0| 7.07|     0.02731|       0.0|         7.07|\n",
      "|0.02729| 0.0| 7.07|     0.02729|       0.0|         7.07|\n",
      "|0.03237| 0.0| 2.18|     0.03237|       0.0|         2.18|\n",
      "|0.06905| 0.0| 2.18|     0.06905|       0.0|         2.18|\n",
      "|0.02985| 0.0| 2.18|     0.02985|       0.0|         2.18|\n",
      "|0.08829|12.5| 7.87|     0.08829|      12.5|         7.87|\n",
      "|0.14455|12.5| 7.87|     0.14455|      12.5|         7.87|\n",
      "|0.21124|12.5| 7.87|     0.21124|      12.5|         7.87|\n",
      "|0.17004|12.5| 7.87|     0.17004|      12.5|         7.87|\n",
      "|0.22489|12.5| 7.87|     0.22489|      12.5|         7.87|\n",
      "|0.11747|12.5| 7.87|     0.11747|      12.5|         7.87|\n",
      "|0.09378|12.5| 7.87|     0.09378|      12.5|         7.87|\n",
      "|0.62976| 0.0| 8.14|     0.62976|       0.0|         8.14|\n",
      "|0.63796| 0.0| 8.14|     0.63796|       0.0|         8.14|\n",
      "|0.62739| 0.0| 8.14|     0.62739|       0.0|         8.14|\n",
      "|1.05393| 0.0| 8.14|     1.05393|       0.0|         8.14|\n",
      "| 0.7842| 0.0| 8.14|      0.7842|       0.0|         8.14|\n",
      "|0.80271| 0.0| 8.14|     0.80271|       0.0|         8.14|\n",
      "| 0.7258| 0.0| 8.14|      0.7258|       0.0|         8.14|\n",
      "+-------+----+-----+------------+----------+-------------+\n",
      "only showing top 20 rows\n",
      "\n"
     ]
    }
   ],
   "source": [
    "imputer.fit(df).transform(df).select(['crim', 'zn', 'indus',\n",
    "                                     'crim_imputed', 'zn_imputed', 'indus_imputed']).show()"
   ]
  },
  {
   "cell_type": "markdown",
   "id": "210d028e",
   "metadata": {},
   "source": [
    "### Filter Data"
   ]
  },
  {
   "cell_type": "code",
   "execution_count": 46,
   "id": "791e9197",
   "metadata": {},
   "outputs": [
    {
     "name": "stdout",
     "output_type": "stream",
     "text": [
      "+---+----+\n",
      "|tax| age|\n",
      "+---+----+\n",
      "|222|45.8|\n",
      "|222|54.2|\n",
      "|222|58.7|\n",
      "|311|39.0|\n",
      "|307|56.5|\n",
      "|307|29.3|\n",
      "|307|36.6|\n",
      "|279|41.5|\n",
      "|279|30.2|\n",
      "|252|21.8|\n",
      "|252|15.8|\n",
      "|233| 2.9|\n",
      "|233| 6.6|\n",
      "|233| 6.5|\n",
      "|233|40.0|\n",
      "|233|33.8|\n",
      "|233|33.3|\n",
      "|243|45.7|\n",
      "|243|21.1|\n",
      "|243|21.4|\n",
      "+---+----+\n",
      "only showing top 20 rows\n",
      "\n"
     ]
    }
   ],
   "source": [
    "df.filter(df['age'] <= 60).select(['tax', 'age']).show()"
   ]
  },
  {
   "cell_type": "code",
   "execution_count": 49,
   "id": "55470e86",
   "metadata": {},
   "outputs": [
    {
     "name": "stdout",
     "output_type": "stream",
     "text": [
      "+---+----+\n",
      "|tax| age|\n",
      "+---+----+\n",
      "|222|45.8|\n",
      "|222|54.2|\n",
      "|222|58.7|\n",
      "|279|41.5|\n",
      "|279|30.2|\n",
      "|252|21.8|\n",
      "|252|15.8|\n",
      "|233| 2.9|\n",
      "|233| 6.6|\n",
      "|233| 6.5|\n",
      "|233|40.0|\n",
      "|233|33.8|\n",
      "|233|33.3|\n",
      "|243|45.7|\n",
      "|243|21.1|\n",
      "|243|21.4|\n",
      "|226|21.9|\n",
      "|256|40.5|\n",
      "|284|29.2|\n",
      "|284|47.2|\n",
      "+---+----+\n",
      "only showing top 20 rows\n",
      "\n"
     ]
    }
   ],
   "source": [
    "df.filter((df['age'] <= 60) & (df['tax'] < 300)).select(['tax', 'age']).show()"
   ]
  },
  {
   "cell_type": "markdown",
   "id": "c229e4fb",
   "metadata": {},
   "source": [
    "### Aggregate"
   ]
  },
  {
   "cell_type": "code",
   "execution_count": 52,
   "id": "90ef7e65",
   "metadata": {},
   "outputs": [
    {
     "name": "stdout",
     "output_type": "stream",
     "text": [
      "+---+------------------+-----------------+--------+\n",
      "|rad|          avg(tax)|         avg(age)|avg(rad)|\n",
      "+---+------------------+-----------------+--------+\n",
      "|  1|            291.45|           45.025|     1.0|\n",
      "|  6|372.88461538461536|60.14230769230768|     6.0|\n",
      "|  3|246.07894736842104|49.31052631578947|     3.0|\n",
      "|  5| 331.8434782608696|69.22347826086958|     5.0|\n",
      "|  4| 335.9818181818182|60.84181818181818|     4.0|\n",
      "|  8|            301.25|            67.35|     8.0|\n",
      "|  7| 304.4117647058824|40.14117647058823|     7.0|\n",
      "| 24|             666.0|89.80530303030304|    24.0|\n",
      "|  2| 260.6666666666667|64.77083333333333|     2.0|\n",
      "+---+------------------+-----------------+--------+\n",
      "\n"
     ]
    }
   ],
   "source": [
    "df.select(['tax', 'age', 'rad']).groupBy('rad').mean().show()"
   ]
  },
  {
   "cell_type": "markdown",
   "id": "3354643f",
   "metadata": {},
   "source": [
    "### ML\n",
    "use rm and lstat to predict medv"
   ]
  },
  {
   "cell_type": "code",
   "execution_count": 53,
   "id": "e759231a",
   "metadata": {},
   "outputs": [],
   "source": [
    "from pyspark.ml.feature import VectorAssembler"
   ]
  },
  {
   "cell_type": "code",
   "execution_count": 54,
   "id": "892d76b4",
   "metadata": {},
   "outputs": [],
   "source": [
    "featureassembler = VectorAssembler(inputCols=['rm', 'lstat'], outputCol = 'independent_featire')"
   ]
  },
  {
   "cell_type": "code",
   "execution_count": 57,
   "id": "207d96cb",
   "metadata": {},
   "outputs": [],
   "source": [
    "output = featureassembler.transform(df['rm', 'lstat', 'medv'])"
   ]
  },
  {
   "cell_type": "code",
   "execution_count": 58,
   "id": "cf56eecf",
   "metadata": {},
   "outputs": [
    {
     "name": "stdout",
     "output_type": "stream",
     "text": [
      "+-----+-----+----+-------------------+\n",
      "|   rm|lstat|medv|independent_featire|\n",
      "+-----+-----+----+-------------------+\n",
      "|6.575| 4.98|24.0|       [6.575,4.98]|\n",
      "|6.421| 9.14|21.6|       [6.421,9.14]|\n",
      "|7.185| 4.03|34.7|       [7.185,4.03]|\n",
      "|6.998| 2.94|33.4|       [6.998,2.94]|\n",
      "|7.147| 5.33|36.2|       [7.147,5.33]|\n",
      "| 6.43| 5.21|28.7|        [6.43,5.21]|\n",
      "|6.012|12.43|22.9|      [6.012,12.43]|\n",
      "|6.172|19.15|27.1|      [6.172,19.15]|\n",
      "|5.631|29.93|16.5|      [5.631,29.93]|\n",
      "|6.004| 17.1|18.9|       [6.004,17.1]|\n",
      "|6.377|20.45|15.0|      [6.377,20.45]|\n",
      "|6.009|13.27|18.9|      [6.009,13.27]|\n",
      "|5.889|15.71|21.7|      [5.889,15.71]|\n",
      "|5.949| 8.26|20.4|       [5.949,8.26]|\n",
      "|6.096|10.26|18.2|      [6.096,10.26]|\n",
      "|5.834| 8.47|19.9|       [5.834,8.47]|\n",
      "|5.935| 6.58|23.1|       [5.935,6.58]|\n",
      "| 5.99|14.67|17.5|       [5.99,14.67]|\n",
      "|5.456|11.69|20.2|      [5.456,11.69]|\n",
      "|5.727|11.28|18.2|      [5.727,11.28]|\n",
      "+-----+-----+----+-------------------+\n",
      "only showing top 20 rows\n",
      "\n"
     ]
    }
   ],
   "source": [
    "output.show()"
   ]
  },
  {
   "cell_type": "code",
   "execution_count": 59,
   "id": "9c50b560",
   "metadata": {},
   "outputs": [],
   "source": [
    "data = output.select(\"independent_featire\", 'medv')"
   ]
  },
  {
   "cell_type": "code",
   "execution_count": 60,
   "id": "ebc6288b",
   "metadata": {},
   "outputs": [
    {
     "name": "stdout",
     "output_type": "stream",
     "text": [
      "+-------------------+----+\n",
      "|independent_featire|medv|\n",
      "+-------------------+----+\n",
      "|       [6.575,4.98]|24.0|\n",
      "|       [6.421,9.14]|21.6|\n",
      "|       [7.185,4.03]|34.7|\n",
      "|       [6.998,2.94]|33.4|\n",
      "|       [7.147,5.33]|36.2|\n",
      "|        [6.43,5.21]|28.7|\n",
      "|      [6.012,12.43]|22.9|\n",
      "|      [6.172,19.15]|27.1|\n",
      "|      [5.631,29.93]|16.5|\n",
      "|       [6.004,17.1]|18.9|\n",
      "|      [6.377,20.45]|15.0|\n",
      "|      [6.009,13.27]|18.9|\n",
      "|      [5.889,15.71]|21.7|\n",
      "|       [5.949,8.26]|20.4|\n",
      "|      [6.096,10.26]|18.2|\n",
      "|       [5.834,8.47]|19.9|\n",
      "|       [5.935,6.58]|23.1|\n",
      "|       [5.99,14.67]|17.5|\n",
      "|      [5.456,11.69]|20.2|\n",
      "|      [5.727,11.28]|18.2|\n",
      "+-------------------+----+\n",
      "only showing top 20 rows\n",
      "\n"
     ]
    }
   ],
   "source": [
    "data.show()"
   ]
  },
  {
   "cell_type": "code",
   "execution_count": 63,
   "id": "0484f64c",
   "metadata": {},
   "outputs": [
    {
     "name": "stderr",
     "output_type": "stream",
     "text": [
      "22/04/11 17:14:26 WARN Instrumentation: [8246d0ca] regParam is zero, which might cause numerical instability and overfitting.\n",
      "22/04/11 17:14:26 WARN InstanceBuilder$NativeBLAS: Failed to load implementation from:dev.ludovic.netlib.blas.JNIBLAS\n",
      "22/04/11 17:14:26 WARN InstanceBuilder$NativeBLAS: Failed to load implementation from:dev.ludovic.netlib.blas.ForeignLinkerBLAS\n",
      "22/04/11 17:14:26 WARN InstanceBuilder$NativeLAPACK: Failed to load implementation from:dev.ludovic.netlib.lapack.JNILAPACK\n"
     ]
    }
   ],
   "source": [
    "from pyspark.ml.regression import LinearRegression\n",
    "\n",
    "train_data, test_data = data.randomSplit([0.75,0.25])\n",
    "regressor = LinearRegression(featuresCol='independent_featire', labelCol = 'medv')\n",
    "regressor = regressor.fit(train_data)"
   ]
  },
  {
   "cell_type": "code",
   "execution_count": 64,
   "id": "940e6ef9",
   "metadata": {},
   "outputs": [
    {
     "data": {
      "text/plain": [
       "DenseVector([4.4746, -0.7141])"
      ]
     },
     "execution_count": 64,
     "metadata": {},
     "output_type": "execute_result"
    }
   ],
   "source": [
    "regressor.coefficients"
   ]
  },
  {
   "cell_type": "code",
   "execution_count": 65,
   "id": "c8703400",
   "metadata": {},
   "outputs": [],
   "source": [
    "predictions = regressor.evaluate(test_data)"
   ]
  },
  {
   "cell_type": "code",
   "execution_count": 66,
   "id": "220c416b",
   "metadata": {},
   "outputs": [
    {
     "name": "stdout",
     "output_type": "stream",
     "text": [
      "+-------------------+----+-------------------+\n",
      "|independent_featire|medv|         prediction|\n",
      "+-------------------+----+-------------------+\n",
      "|      [4.628,34.37]|17.9|-0.5736947753425983|\n",
      "|      [4.652,28.28]|10.5|  3.882476734846077|\n",
      "|       [4.88,30.62]|10.2|  3.231728991362056|\n",
      "|      [5.012,12.12]|15.3|  17.03296012082872|\n",
      "|      [5.019,34.41]|14.4| 1.1473164798963817|\n",
      "|      [5.093,29.68]| 8.1| 4.8560624775664145|\n",
      "|      [5.155,20.08]|16.3| 11.988709507575262|\n",
      "|      [5.272,16.14]|13.1| 15.325736422913831|\n",
      "|      [5.304,24.91]|12.0|  9.206394224275638|\n",
      "|      [5.304,26.64]|10.4|  7.971026297268771|\n",
      "|      [5.362,10.19]|20.8|  19.97726058766563|\n",
      "|      [5.399,30.81]|14.4|  5.418378209475897|\n",
      "|      [5.404,23.98]|19.3| 10.317955299570754|\n",
      "|      [5.412,29.55]|23.7|  6.376295950220054|\n",
      "|      [5.414,23.97]| 7.0| 10.369842310024215|\n",
      "|      [5.453,30.59]| 5.0|  5.817106260076686|\n",
      "|      [5.468,26.42]|15.6|  8.861962057094171|\n",
      "|       [5.52,24.56]|12.3| 10.422841108000384|\n",
      "|      [5.531,27.38]| 8.5|  8.458340749350956|\n",
      "|       [5.536,23.6]|11.3|  11.17995704327764|\n",
      "+-------------------+----+-------------------+\n",
      "only showing top 20 rows\n",
      "\n"
     ]
    },
    {
     "name": "stderr",
     "output_type": "stream",
     "text": [
      "/Users/charlesreinertson/Desktop/School/grad/DATA514/spark_database/env_spark/lib/python3.8/site-packages/pyspark/sql/context.py:125: FutureWarning: Deprecated in 3.0.0. Use SparkSession.builder.getOrCreate() instead.\n",
      "  warnings.warn(\n"
     ]
    }
   ],
   "source": [
    "predictions.predictions.show()"
   ]
  },
  {
   "cell_type": "markdown",
   "id": "175ba549",
   "metadata": {},
   "source": [
    "# Next step put this in the cloud! Multiple clusters (databricks?)"
   ]
  },
  {
   "cell_type": "code",
   "execution_count": null,
   "id": "9c16738e",
   "metadata": {},
   "outputs": [],
   "source": []
  }
 ],
 "metadata": {
  "kernelspec": {
   "display_name": "Python 3 (ipykernel)",
   "language": "python",
   "name": "python3"
  },
  "language_info": {
   "codemirror_mode": {
    "name": "ipython",
    "version": 3
   },
   "file_extension": ".py",
   "mimetype": "text/x-python",
   "name": "python",
   "nbconvert_exporter": "python",
   "pygments_lexer": "ipython3",
   "version": "3.8.13"
  }
 },
 "nbformat": 4,
 "nbformat_minor": 5
}
